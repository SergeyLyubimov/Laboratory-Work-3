{
 "cells": [
  {
   "cell_type": "markdown",
   "id": "8c9b6e38-6124-4d4f-a835-8a4b273d0397",
   "metadata": {},
   "source": [
    "# Задание\n",
    "Написать программу на Python, которая определит минимальное количество разломов, необходимых для разбивания шоколадки на отдельные квадратики 1 х 1. "
   ]
  },
  {
   "cell_type": "markdown",
   "id": "6b33e032-94d7-4fc5-b9f8-721f20d3f58d",
   "metadata": {},
   "source": [
    "## Дополнительное задание \n",
    "Оптимизировать функцию, используя мемоизацию (кеширование результатов промежуточных вычислений) для уменьшения количества вызовов функции."
   ]
  },
  {
   "cell_type": "code",
   "execution_count": 1,
   "id": "8e2f0ffa-5367-4a9d-bfa2-caae1e715acd",
   "metadata": {},
   "outputs": [],
   "source": [
    "cache = {}"
   ]
  },
  {
   "cell_type": "code",
   "execution_count": 2,
   "id": "4f595e9e-631f-4aed-aef1-4adb574648b3",
   "metadata": {},
   "outputs": [],
   "source": [
    "def min_breaks(n: int, m: int):\n",
    "    global cache\n",
    "    if n == 1 and m == 1:\n",
    "        return 0\n",
    "    if n == 1 or m == 1:\n",
    "        return max(n, m) - 1\n",
    "    if (n, m) in cache:\n",
    "        return cache[(n, m)]\n",
    "    if n >= m:\n",
    "        slices = 1 + min_breaks(n - n//2, m) + min_breaks(n//2, m)\n",
    "    else:\n",
    "        slices = 1 + min_breaks(n, m - m//2) + min_breaks(n, m//2)\n",
    "    cache[(n, m)] = slices\n",
    "    return slices"
   ]
  },
  {
   "cell_type": "code",
   "execution_count": 3,
   "id": "61cb482b-763e-40ea-9cca-840f8d14a2e8",
   "metadata": {},
   "outputs": [
    {
     "name": "stdout",
     "output_type": "stream",
     "text": [
      "5\n"
     ]
    }
   ],
   "source": [
    "print(min_breaks(2, 3))"
   ]
  },
  {
   "cell_type": "code",
   "execution_count": 4,
   "id": "59b36f7b-8808-4ca5-8a62-ade057d5b8a1",
   "metadata": {},
   "outputs": [
    {
     "name": "stdout",
     "output_type": "stream",
     "text": [
      "8\n"
     ]
    }
   ],
   "source": [
    "print(min_breaks(3, 3))"
   ]
  },
  {
   "cell_type": "code",
   "execution_count": 5,
   "id": "d0697da4-34d6-46f0-84b3-8afb3393fde5",
   "metadata": {},
   "outputs": [
    {
     "name": "stdout",
     "output_type": "stream",
     "text": [
      "0\n"
     ]
    }
   ],
   "source": [
    "print(min_breaks(1, 1))"
   ]
  }
 ],
 "metadata": {
  "kernelspec": {
   "display_name": "Python 3 (ipykernel)",
   "language": "python",
   "name": "python3"
  },
  "language_info": {
   "codemirror_mode": {
    "name": "ipython",
    "version": 3
   },
   "file_extension": ".py",
   "mimetype": "text/x-python",
   "name": "python",
   "nbconvert_exporter": "python",
   "pygments_lexer": "ipython3",
   "version": "3.12.7"
  }
 },
 "nbformat": 4,
 "nbformat_minor": 5
}
